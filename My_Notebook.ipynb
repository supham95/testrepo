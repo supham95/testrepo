{
 "cells": [
  {
   "cell_type": "code",
   "execution_count": 2,
   "id": "60c81f87-0d88-4006-8eca-3f5e4d69f667",
   "metadata": {},
   "outputs": [
    {
     "data": {
      "text/plain": [
       "2"
      ]
     },
     "execution_count": 2,
     "metadata": {},
     "output_type": "execute_result"
    }
   ],
   "source": [
    "1+1"
   ]
  },
  {
   "cell_type": "code",
   "execution_count": 3,
   "id": "9fd51391-a5c8-47e0-8a16-6c822dea0cbf",
   "metadata": {},
   "outputs": [
    {
     "data": {
      "text/plain": [
       "28"
      ]
     },
     "execution_count": 3,
     "metadata": {},
     "output_type": "execute_result"
    }
   ],
   "source": [
    "4*7"
   ]
  },
  {
   "cell_type": "markdown",
   "id": "8aeed9b5-1be6-4d3e-a5c2-dff79c4e3883",
   "metadata": {},
   "source": [
    "4/2"
   ]
  },
  {
   "cell_type": "code",
   "execution_count": 6,
   "id": "21d1b05c-5197-436c-8cf0-b6f0f886a69b",
   "metadata": {},
   "outputs": [
    {
     "data": {
      "text/plain": [
       "63"
      ]
     },
     "execution_count": 6,
     "metadata": {},
     "output_type": "execute_result"
    }
   ],
   "source": [
    "7*(7+2)"
   ]
  },
  {
   "cell_type": "markdown",
   "id": "b87e4408-932d-4772-bcea-9f4475659f87",
   "metadata": {},
   "source": [
    "My title"
   ]
  },
  {
   "cell_type": "markdown",
   "id": "341e7075-5016-4c46-838a-eac5ea4a49e1",
   "metadata": {},
   "source": [
    "[Cognitive Class](https://www.cognitiveclass.ai)"
   ]
  },
  {
   "cell_type": "markdown",
   "id": "d94a9308-08b1-4bc2-a279-3ba5f98f54f8",
   "metadata": {},
   "source": [
    "# Header 1"
   ]
  },
  {
   "cell_type": "markdown",
   "id": "ebc48db9-148f-4693-9ca0-1363b3bba91f",
   "metadata": {},
   "source": [
    "| header | header | \n",
    "| ------ | ------ | \n",
    "| cell | cell |"
   ]
  },
  {
   "cell_type": "markdown",
   "id": "d7b500d5-70fe-410c-9380-978f72b97b16",
   "metadata": {},
   "source": [
    "| STT | HỌ TÊN | NĂM SINH |\n",
    "| -------- | -------- | -------- |\n",
    "| 1 | ABCD | 1995 |\n",
    "| 2 | QUER | 1996 |\n",
    "| 3 | ASDF | 1997 |"
   ]
  },
  {
   "cell_type": "code",
   "execution_count": null,
   "id": "5c667585-83dd-4e54-94cd-9fafa01d6822",
   "metadata": {},
   "outputs": [],
   "source": []
  }
 ],
 "metadata": {
  "kernelspec": {
   "display_name": "Python 3",
   "language": "python",
   "name": "python3"
  },
  "language_info": {
   "codemirror_mode": {
    "name": "ipython",
    "version": 3
   },
   "file_extension": ".py",
   "mimetype": "text/x-python",
   "name": "python",
   "nbconvert_exporter": "python",
   "pygments_lexer": "ipython3",
   "version": "3.6.8"
  }
 },
 "nbformat": 4,
 "nbformat_minor": 5
}
